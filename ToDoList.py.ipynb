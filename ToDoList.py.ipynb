{
 "cells": [
  {
   "cell_type": "code",
   "execution_count": null,
   "id": "76ac60e0",
   "metadata": {},
   "outputs": [],
   "source": [
    "import tkinter as tk\n",
    "class ToDoApp:\n",
    "    def __init__(self,master):\n",
    "        self.master = master\n",
    "        self.master.title(\"To-Do List App\")\n",
    "        self.tasks = []\n",
    "        \n",
    "        self.task_entry = tk.Entry(master,width=40)\n",
    "        self.task_entry.grid(row=0, column=0, padx=5, pady=5)\n",
    "        \n",
    "        self.add_button = tk.Button(master, text=\"Add Task\", command=self.add_task)\n",
    "        self.add_button.grid(row=0, column=1, padx=5, pady=5)\n",
    "        \n",
    "        self.task_listbox = tk.Listbox(master,width=50)\n",
    "        self.task_listbox.grid(row=1, column=0, padx=5, pady=5)\n",
    "        \n",
    "        self.delete_button = tk.Button(master, text=\"Delete Task\", command=self.delete_task)\n",
    "        self.delete_button.grid(row=2, column=0, padx=5, pady=5)\n",
    "        \n",
    "        self.clear_button = tk.Button(master, text=\"Clear All\", command=self.clear_task)\n",
    "        self.clear_button.grid(row=2, column=1, padx=5, pady=5)\n",
    "        \n",
    "    def add_task(self):\n",
    "        task = self.task_entry.get()\n",
    "        if task: \n",
    "            self.tasks.append(task)\n",
    "            self.update_task_listbox()\n",
    "            self.task_entry.delete(0,tk.END)\n",
    "    def delete_task(self):\n",
    "        selected_index = self.task_listbox.curselection()\n",
    "        if selected_index():\n",
    "            self.tasks.pop(selected_index[0])\n",
    "            self.update_task_listbox()\n",
    "    def clear_task(self):\n",
    "        self.tasks.clear()\n",
    "        self.update_task_listbox()\n",
    "    def update_task_listbox(self):\n",
    "        self.task_listbox.delete(0,tk.END)\n",
    "        for task in self.tasks:\n",
    "            self.task_listbox.insert(tk.END, task)\n",
    "def main():\n",
    "    root = tk.Tk()\n",
    "    app = ToDoApp(root)\n",
    "    root.mainloop()\n",
    "if __name__ == \"__main__\":\n",
    "    main()\n"
   ]
  },
  {
   "cell_type": "code",
   "execution_count": null,
   "id": "6e4c099c",
   "metadata": {},
   "outputs": [],
   "source": []
  }
 ],
 "metadata": {
  "kernelspec": {
   "display_name": "Python 3 (ipykernel)",
   "language": "python",
   "name": "python3"
  },
  "language_info": {
   "codemirror_mode": {
    "name": "ipython",
    "version": 3
   },
   "file_extension": ".py",
   "mimetype": "text/x-python",
   "name": "python",
   "nbconvert_exporter": "python",
   "pygments_lexer": "ipython3",
   "version": "3.11.4"
  }
 },
 "nbformat": 4,
 "nbformat_minor": 5
}
